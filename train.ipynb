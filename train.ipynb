{
 "cells": [
  {
   "cell_type": "code",
   "execution_count": 22,
   "metadata": {},
   "outputs": [],
   "source": [
    "import mlflow\n",
    "import pandas as pd\n",
    "from sklearn.feature_extraction.text import TfidfVectorizer\n",
    "from sklearn.pipeline import make_pipeline\n",
    "from sklearn.metrics import precision_recall_curve, auc, average_precision_score\n",
    "from sklearn.linear_model import LogisticRegression, SGDClassifier\n",
    "from sklearn.ensemble import RandomForestClassifier\n",
    "from sklearn.naive_bayes import MultinomialNB\n",
    "from mlflow.tracking import MlflowClient"
   ]
  },
  {
   "cell_type": "code",
   "execution_count": 2,
   "metadata": {},
   "outputs": [
    {
     "data": {
      "text/plain": [
       "<Experiment: artifact_location='file:///Users/ujandasgupta/Desktop/Applied%20ML/assignment-2/mlruns/631866937464807196', creation_time=1708345645962, experiment_id='631866937464807196', last_update_time=1708345645962, lifecycle_stage='active', name='Benchmark_Models_Experiment', tags={}>"
      ]
     },
     "execution_count": 2,
     "metadata": {},
     "output_type": "execute_result"
    }
   ],
   "source": [
    "mlflow.set_experiment(\"Benchmark_Models_Experiment\")"
   ]
  },
  {
   "attachments": {},
   "cell_type": "markdown",
   "metadata": {},
   "source": [
    "## Load prepared data"
   ]
  },
  {
   "cell_type": "code",
   "execution_count": 3,
   "metadata": {},
   "outputs": [],
   "source": [
    "# Load the datasets\n",
    "train_data = pd.read_csv('train.csv')\n",
    "val_data = pd.read_csv('validation.csv')\n",
    "# Assuming test data is for final evaluation and not used in this training notebook\n",
    "X_train = train_data['text']\n",
    "y_train = train_data['spam']\n",
    "X_val = val_data['text']\n",
    "y_val = val_data['spam']"
   ]
  },
  {
   "cell_type": "code",
   "execution_count": 4,
   "metadata": {},
   "outputs": [],
   "source": [
    "tfidf_vectorizer = TfidfVectorizer()"
   ]
  },
  {
   "attachments": {},
   "cell_type": "markdown",
   "metadata": {},
   "source": [
    "## Training and Evaluating a model and version controlling using MLflow"
   ]
  },
  {
   "cell_type": "code",
   "execution_count": 5,
   "metadata": {},
   "outputs": [],
   "source": [
    "def evaluate_and_log_model(model, model_name):\n",
    "    with mlflow.start_run(run_name=model_name):\n",
    "        # Create a pipeline with TF-IDF and the model\n",
    "        pipeline = make_pipeline(tfidf_vectorizer, model)\n",
    "        \n",
    "        # Fit the pipeline on the training data\n",
    "        pipeline.fit(X_train, y_train)\n",
    "        \n",
    "        # Predict on validation set\n",
    "        y_scores = pipeline.predict_proba(X_val)[:, 1] if hasattr(model, \"predict_proba\") else pipeline.decision_function(X_val)\n",
    "        \n",
    "        # Calculate AUCPR\n",
    "        precision, recall, _ = precision_recall_curve(y_val, y_scores)\n",
    "        aucpr = auc(recall, precision)\n",
    "        \n",
    "        # Log parameters, metrics, and model\n",
    "        mlflow.log_params(model.get_params())\n",
    "        mlflow.log_metric(\"AUCPR\", aucpr)\n",
    "        mlflow.sklearn.log_model(pipeline, \"model\")\n",
    "        \n",
    "        # Print AUCPR\n",
    "        print(f\"{model_name} AUCPR: {aucpr}\")\n",
    "\n",
    "        # Register the model\n",
    "        mlflow.register_model(\n",
    "            mlflow.get_artifact_uri(\"model\"),\n",
    "            model_name\n",
    "        )"
   ]
  },
  {
   "cell_type": "code",
   "execution_count": 6,
   "metadata": {},
   "outputs": [
    {
     "name": "stdout",
     "output_type": "stream",
     "text": [
      "Logistic_Regression AUCPR: 0.9965459454541511\n"
     ]
    },
    {
     "name": "stderr",
     "output_type": "stream",
     "text": [
      "/Users/ujandasgupta/.pyenv/versions/3.10.9/lib/python3.10/site-packages/_distutils_hack/__init__.py:33: UserWarning: Setuptools is replacing distutils.\n",
      "  warnings.warn(\"Setuptools is replacing distutils.\")\n",
      "Registered model 'Logistic_Regression' already exists. Creating a new version of this model...\n",
      "Created version '4' of model 'Logistic_Regression'.\n"
     ]
    }
   ],
   "source": [
    "evaluate_and_log_model(LogisticRegression(), \"Logistic_Regression\")"
   ]
  },
  {
   "cell_type": "code",
   "execution_count": 8,
   "metadata": {},
   "outputs": [
    {
     "name": "stdout",
     "output_type": "stream",
     "text": [
      "Multinomial_NB AUCPR: 0.9880050585973483\n"
     ]
    },
    {
     "name": "stderr",
     "output_type": "stream",
     "text": [
      "Registered model 'Multinomial_NB' already exists. Creating a new version of this model...\n",
      "Created version '4' of model 'Multinomial_NB'.\n"
     ]
    }
   ],
   "source": [
    "evaluate_and_log_model(MultinomialNB(), \"Multinomial_NB\")"
   ]
  },
  {
   "cell_type": "code",
   "execution_count": 10,
   "metadata": {},
   "outputs": [
    {
     "name": "stdout",
     "output_type": "stream",
     "text": [
      "Random_Forest AUCPR: 0.9971620370435094\n"
     ]
    },
    {
     "name": "stderr",
     "output_type": "stream",
     "text": [
      "Registered model 'Random_Forest' already exists. Creating a new version of this model...\n",
      "Created version '4' of model 'Random_Forest'.\n"
     ]
    }
   ],
   "source": [
    "evaluate_and_log_model(RandomForestClassifier(), \"Random_Forest\")"
   ]
  },
  {
   "cell_type": "code",
   "execution_count": 12,
   "metadata": {},
   "outputs": [
    {
     "name": "stderr",
     "output_type": "stream",
     "text": [
      "/Users/ujandasgupta/.pyenv/versions/3.10.9/lib/python3.10/site-packages/sklearn/linear_model/_stochastic_gradient.py:163: FutureWarning: The loss 'log' was deprecated in v1.1 and will be removed in version 1.3. Use `loss='log_loss'` which is equivalent.\n",
      "  warnings.warn(\n"
     ]
    },
    {
     "name": "stdout",
     "output_type": "stream",
     "text": [
      "SGD_Classifier AUCPR: 0.9973448504146537\n"
     ]
    },
    {
     "name": "stderr",
     "output_type": "stream",
     "text": [
      "Registered model 'SGD_Classifier' already exists. Creating a new version of this model...\n",
      "Created version '4' of model 'SGD_Classifier'.\n"
     ]
    }
   ],
   "source": [
    "evaluate_and_log_model(SGDClassifier(loss='log'), \"SGD_Classifier\")"
   ]
  },
  {
   "cell_type": "code",
   "execution_count": 13,
   "metadata": {},
   "outputs": [
    {
     "name": "stdout",
     "output_type": "stream",
     "text": [
      "Logistic_Regression AUCPR: 0.9965459454541511\n",
      "Logistic_Regression AUCPR: 0.9965459454541511\n",
      "Logistic_Regression AUCPR: 0.9965459454541511\n",
      "Logistic_Regression AUCPR: 0.9965459454541511\n",
      "Multinomial_NB AUCPR: 0.9880050585973483\n",
      "Multinomial_NB AUCPR: 0.9880050585973483\n",
      "Multinomial_NB AUCPR: 0.9880050585973483\n",
      "Multinomial_NB AUCPR: 0.9880050585973483\n",
      "Random_Forest AUCPR: 0.9971620370435094\n",
      "Random_Forest AUCPR: 0.9963395532100702\n",
      "Random_Forest AUCPR: 0.9966080608179311\n",
      "Random_Forest AUCPR: 0.9975970670266049\n",
      "SGD_Classifier AUCPR: 0.9973448504146537\n",
      "SGD_Classifier AUCPR: 0.9973432748155386\n",
      "SGD_Classifier AUCPR: 0.9973487588623465\n",
      "SGD_Classifier AUCPR: 0.9973691787575261\n"
     ]
    }
   ],
   "source": [
    "client = MlflowClient()\n",
    "for model_name in [\"Logistic_Regression\", \"Multinomial_NB\", \"Random_Forest\", \"SGD_Classifier\"]:\n",
    "    runs = client.search_runs(\n",
    "        experiment_ids=[mlflow.get_experiment_by_name(\"Benchmark_Models_Experiment\").experiment_id],\n",
    "        filter_string=f\"tags.mlflow.runName = '{model_name}'\"\n",
    "    )\n",
    "    for run in runs:\n",
    "        # Safely access the AUCPR metric\n",
    "        aucpr = run.data.metrics.get('AUCPR')\n",
    "        if aucpr is not None:\n",
    "            print(f\"{model_name} AUCPR: {aucpr}\")"
   ]
  },
  {
   "cell_type": "code",
   "execution_count": 14,
   "metadata": {},
   "outputs": [
    {
     "name": "stdout",
     "output_type": "stream",
     "text": [
      "[2024-02-19 19:37:24 +0530] [50879] [INFO] Starting gunicorn 21.2.0\n",
      "[2024-02-19 19:37:24 +0530] [50879] [INFO] Listening at: http://127.0.0.1:5000 (50879)\n",
      "[2024-02-19 19:37:24 +0530] [50879] [INFO] Using worker: sync\n",
      "[2024-02-19 19:37:24 +0530] [50880] [INFO] Booting worker with pid: 50880\n",
      "[2024-02-19 19:37:24 +0530] [50881] [INFO] Booting worker with pid: 50881\n",
      "[2024-02-19 19:37:24 +0530] [50882] [INFO] Booting worker with pid: 50882\n",
      "[2024-02-19 19:37:24 +0530] [50883] [INFO] Booting worker with pid: 50883\n",
      "^C\n",
      "[2024-02-19 19:46:29 +0530] [50879] [INFO] Handling signal: int\n",
      "[2024-02-19 19:46:29 +0530] [50883] [INFO] Worker exiting (pid: 50883)\n",
      "[2024-02-19 19:46:29 +0530] [50882] [INFO] Worker exiting (pid: 50882)\n",
      "[2024-02-19 19:46:29 +0530] [50881] [INFO] Worker exiting (pid: 50881)\n",
      "[2024-02-19 19:46:29 +0530] [50880] [INFO] Worker exiting (pid: 50880)\n"
     ]
    }
   ],
   "source": [
    "! mlflow ui"
   ]
  },
  {
   "attachments": {},
   "cell_type": "markdown",
   "metadata": {},
   "source": [
    "# Using the Best version of the SGD Classifier model to get \"AUCPR\" on test data"
   ]
  },
  {
   "cell_type": "code",
   "execution_count": 15,
   "metadata": {},
   "outputs": [],
   "source": [
    "model_name = \"SGD_Classifier\"  \n",
    "model_version = \"4\"  "
   ]
  },
  {
   "cell_type": "code",
   "execution_count": 16,
   "metadata": {},
   "outputs": [],
   "source": [
    "model_uri = f\"models:/{model_name}/{model_version}\"\n",
    "model = mlflow.sklearn.load_model(model_uri)"
   ]
  },
  {
   "cell_type": "code",
   "execution_count": 18,
   "metadata": {},
   "outputs": [],
   "source": [
    "test_data = pd.read_csv('test.csv')"
   ]
  },
  {
   "cell_type": "code",
   "execution_count": 19,
   "metadata": {},
   "outputs": [],
   "source": [
    "X_test = test_data['text']\n",
    "y_test = test_data['spam']"
   ]
  },
  {
   "cell_type": "code",
   "execution_count": 20,
   "metadata": {},
   "outputs": [],
   "source": [
    "y_pred = model.predict(X_test)"
   ]
  },
  {
   "cell_type": "code",
   "execution_count": 26,
   "metadata": {},
   "outputs": [],
   "source": [
    "# Calculate AUCPR\n",
    "precision, recall, _ = precision_recall_curve(y_pred, y_test)\n",
    "aucpr = auc(recall, precision)"
   ]
  },
  {
   "cell_type": "code",
   "execution_count": 29,
   "metadata": {},
   "outputs": [
    {
     "name": "stdout",
     "output_type": "stream",
     "text": [
      "1.0\n"
     ]
    }
   ],
   "source": [
    "print(aucpr)"
   ]
  },
  {
   "cell_type": "code",
   "execution_count": null,
   "metadata": {},
   "outputs": [],
   "source": []
  }
 ],
 "metadata": {
  "kernelspec": {
   "display_name": "Python 3",
   "language": "python",
   "name": "python3"
  },
  "language_info": {
   "codemirror_mode": {
    "name": "ipython",
    "version": 3
   },
   "file_extension": ".py",
   "mimetype": "text/x-python",
   "name": "python",
   "nbconvert_exporter": "python",
   "pygments_lexer": "ipython3",
   "version": "3.10.9"
  },
  "orig_nbformat": 4,
  "vscode": {
   "interpreter": {
    "hash": "1223e1bb6f70b4e85dab1ecdac04c42cbf45c1eafc17bc1f0f72cf403c1b7f17"
   }
  }
 },
 "nbformat": 4,
 "nbformat_minor": 2
}
